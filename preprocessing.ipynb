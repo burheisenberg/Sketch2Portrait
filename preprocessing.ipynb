{
 "cells": [
  {
   "cell_type": "code",
   "execution_count": 30,
   "id": "70ac4380",
   "metadata": {},
   "outputs": [],
   "source": [
    "from PIL import Image, ImageFilter, ImageOps\n",
    "import os\n",
    "\n",
    "def apply_median_filter(original_image, radius=7):\n",
    "    \n",
    "    # Apply median filter\n",
    "    filtered_image = original_image.filter(ImageFilter.MedianFilter(radius))\n",
    "    \n",
    "    return filtered_image\n",
    "\n",
    "def apply_edge_detection(image):\n",
    "    # Apply edge detection\n",
    "    edge_image = image.filter(ImageFilter.FIND_EDGES)\n",
    "    \n",
    "    return edge_image\n",
    "\n",
    "def apply_color_inversion(image):\n",
    "    # Apply color inversion\n",
    "    inverted_image = ImageOps.invert(image)\n",
    "    \n",
    "    inverted_image = inverted_image.convert(\"L\")\n",
    "    inverted_image = inverted_image.convert(\"RGB\")\n",
    "    \n",
    "    return inverted_image"
   ]
  },
  {
   "cell_type": "code",
   "execution_count": null,
   "id": "72e0af2d",
   "metadata": {},
   "outputs": [],
   "source": []
  },
  {
   "cell_type": "code",
   "execution_count": 31,
   "id": "6c74e284",
   "metadata": {},
   "outputs": [
    {
     "name": "stdout",
     "output_type": "stream",
     "text": [
      "Image processing complete. Result saved.\n"
     ]
    }
   ],
   "source": [
    "def main():\n",
    "    # Specify the path to your input image\n",
    "    input_image_path = \"C:/Users/Brhan/OneDrive/Belgeler/KuOnline/Spring24/Elec491/SNN/dataset/toy_dataset\"\n",
    "    output_image_path= \"C:/Users/Brhan/OneDrive/Belgeler/KuOnline/Spring24/Elec491/SNN/dataset/toy_dataset_output\"\n",
    "    \n",
    "    os.makedirs(output_image_path, exist_ok=True)\n",
    "    \n",
    "    for root, dirs, files in os.walk(input_image_path):\n",
    "        for file in files:\n",
    "            image_path = os.path.join(root, file)\n",
    "            \n",
    "            # Open the image using PIL\n",
    "            with Image.open(image_path) as img:\n",
    "    \n",
    "                # Apply median filter\n",
    "                filtered_image = apply_median_filter(img)\n",
    "    \n",
    "                # Apply edge detection\n",
    "                edge_image = apply_edge_detection(filtered_image)\n",
    "    \n",
    "                # Apply color inversion\n",
    "                inverted_image = apply_color_inversion(edge_image)\n",
    "    \n",
    "                #inverted_image.show()\n",
    "                # Save the final result\n",
    "                output_path = os.path.join(output_image_path, file)\n",
    "                inverted_image.save(output_path)\n",
    "    \n",
    "    print(\"Image processing complete. Result saved.\")\n",
    "\n",
    "if __name__ == \"__main__\":\n",
    "    main()"
   ]
  },
  {
   "cell_type": "code",
   "execution_count": null,
   "id": "18f0e9de",
   "metadata": {},
   "outputs": [],
   "source": []
  }
 ],
 "metadata": {
  "kernelspec": {
   "display_name": "Python 3 (ipykernel)",
   "language": "python",
   "name": "python3"
  },
  "language_info": {
   "codemirror_mode": {
    "name": "ipython",
    "version": 3
   },
   "file_extension": ".py",
   "mimetype": "text/x-python",
   "name": "python",
   "nbconvert_exporter": "python",
   "pygments_lexer": "ipython3",
   "version": "3.8.15"
  }
 },
 "nbformat": 4,
 "nbformat_minor": 5
}
